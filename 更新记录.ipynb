{
 "cells": [
  {
   "attachments": {},
   "cell_type": "markdown",
   "metadata": {},
   "source": [
    "# Second update\n",
    "1. 使用说明和视频增加断点续训教程.\n",
    "2. 增加 使用C2f-DBB替换C2f.(使用DiverseBranchBlock替换C2f中的Bottleneck中的Conv) C2f-DBB同样可以用在bifpn中的node.\n",
    "3. 使用说明中增加常见错误以及解决方案."
   ]
  },
  {
   "attachments": {},
   "cell_type": "markdown",
   "metadata": {},
   "source": [
    "# First update \n",
    "1. 增加EMA，C2f-Faster-EMA （Implementation Code for the ICCASSP 2023 paper \" Efficient Multi-Scale Attention Module with Cross-Spatial Learning\" ）\n",
    "2. val.py增加batch选择\n",
    "3. train.py增加resume断点续训 "
   ]
  },
  {
   "attachments": {},
   "cell_type": "markdown",
   "metadata": {},
   "source": [
    "# Initial commit\n",
    "项目包含以下内容：\n",
    "1. 当前版本(2023.6)yolov8模型的目标检测中的训练，测试，推理，跟踪的视频教程。\n",
    "2. 支持切换timm和历届发布的更换主干视频模型，这部分也有视频教程，会教你如何切换。\n",
    "3. 附赠一些比较热门的改进点，这些后续会通过B站视频发布，当然改进代码会给大家修改好发布到yolov8交流群里。B站发布的视频主要是讲解修改的地方。(DYHEAD,DAMO-YOLO中的GFPN,DCNV2,DCNV3(编译问题需自行解决,建议在ubuntu上使用,ubuntu上比较容易编译成功),NWD,TSCODE,ODConv,EVC,VOVGSCSP,注意力机制)括号指定的是必定有的,后续的改进的话也会可能继续支持yolov8,这个暂时没法确定，要看反应情况，如果购买的人多，后续可能主要以v8。请注意：这一点是后续慢慢发布更新。\n",
    "4. 会录制一个修改yolov8代码的讲解视频，这个视频的作用就是给你讲解一下如果需要自己修改yolov8，需要看懂那部分代码，对后续自己有需要更改的结构有一定的帮助。\n",
    "5. BIFPN，对于BIFPN中我会使用一些比较经典的block去优化BIFPN中的节点，使其有更强的特征提取能力，到时候后面会在群里发布。\n",
    "\n",
    "注意点：\n",
    "1. 代码版本定在2023.6，也就是不会随着官方的更新而更新，后续改进都是基于这个版本上进行改动和发布。\n",
    "2. yolov8库中目前有比较多的模型支持，例如rtmdet，yolov6等等，我们这个项目主要是针对yolov8模型，其他的模型不支持，有需要可以自行尝试更改。\n",
    "3. 会有一个yolov8交流群，我也会不定时出来解答问题，项目规则上没有答疑，有疑问可以在群里大家交流，我有空的时候也会给大家进行解答。"
   ]
  }
 ],
 "metadata": {
  "kernelspec": {
   "display_name": "umot",
   "language": "python",
   "name": "python3"
  },
  "language_info": {
   "name": "python",
   "version": "3.8.16"
  },
  "orig_nbformat": 4
 },
 "nbformat": 4,
 "nbformat_minor": 2
}
