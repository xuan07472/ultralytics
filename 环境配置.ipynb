{
 "cells": [
  {
   "cell_type": "code",
   "execution_count": null,
   "metadata": {},
   "outputs": [],
   "source": [
    "# 环境配置\n",
    "!conda create -n umot python=3.8 -y\n",
    "!conda activate umot\n",
    "!pip install torch==1.13.1+cu117 torchvision==0.14.1+cu117 torchaudio==0.13.1 --extra-index-url https://download.pytorch.org/whl/cu117\n",
    "!pip install jupyter"
   ]
  },
  {
   "cell_type": "code",
   "execution_count": null,
   "metadata": {},
   "outputs": [],
   "source": [
    "# 环境测试\n",
    "import torch\n",
    "import torchvision\n",
    "import torchaudio\n",
    "print(torch.__version__, torchvision.__version__, torchaudio.__version__, torch.cuda.is_available()) # 输出torch版本并查看cuda是否可用\n",
    "print(torch.version.cuda) # 查看cuda版本\n",
    "print(torch.backends.cudnn.version()) # 查看cudnn版本\n",
    "print(torch.cuda.get_device_name(0)) # 查看GPU类型"
   ]
  },
  {
   "cell_type": "code",
   "execution_count": null,
   "metadata": {},
   "outputs": [],
   "source": [
    "# 查看线程\n",
    "!grep 'physical id' /proc/cpuinfo | sort -u |wc -l\n",
    "!grep 'core id' /proc/cpuinfo | sort -u | wc -l\n",
    "!grep 'processor' /proc/cpuinfo | sort -u | wc -l"
   ]
  },
  {
   "cell_type": "code",
   "execution_count": null,
   "metadata": {},
   "outputs": [],
   "source": [
    "# yolov8项目安装\n",
    "!cd yolov8\n",
    "!pip install -e .\n",
    "!pip install timm==0.6.13\n",
    "!pip install thop\n",
    "\n",
    "!pip install -U openmim\n",
    "!mim install mmengine\n",
    "!mim install \"mmcv>=2.0.0\"\n",
    "\n"
   ]
  }
 ],
 "metadata": {
  "kernelspec": {
   "display_name": "umot",
   "language": "python",
   "name": "python3"
  },
  "language_info": {
   "name": "python",
   "version": "3.8.16"
  },
  "orig_nbformat": 4
 },
 "nbformat": 4,
 "nbformat_minor": 2
}
